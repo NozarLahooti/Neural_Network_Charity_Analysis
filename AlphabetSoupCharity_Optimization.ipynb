{
  "cells": [
    {
      "cell_type": "markdown",
      "metadata": {
        "id": "i1MgFmMhv7Oy"
      },
      "source": [
        "### Deliverable 1: Preprocessing the Data for a Neural Network"
      ]
    },
    {
      "cell_type": "code",
      "execution_count": 4,
      "metadata": {
        "colab": {
          "base_uri": "https://localhost:8080/",
          "height": 495
        },
        "id": "Qr5h8ppyv7O3",
        "outputId": "e8010a09-cabf-4263-ec12-0710822495f8"
      },
      "outputs": [
        {
          "output_type": "execute_result",
          "data": {
            "text/plain": [
              "        EIN                                      NAME APPLICATION_TYPE  \\\n",
              "0  10520599              BLUE KNIGHTS MOTORCYCLE CLUB              T10   \n",
              "1  10531628    AMERICAN CHESAPEAKE CLUB CHARITABLE TR               T3   \n",
              "2  10547893        ST CLOUD PROFESSIONAL FIREFIGHTERS               T5   \n",
              "3  10553066            SOUTHSIDE ATHLETIC ASSOCIATION               T3   \n",
              "4  10556103  GENETIC RESEARCH INSTITUTE OF THE DESERT               T3   \n",
              "\n",
              "        AFFILIATION CLASSIFICATION      USE_CASE  ORGANIZATION  STATUS  \\\n",
              "0       Independent          C1000    ProductDev   Association       1   \n",
              "1       Independent          C2000  Preservation  Co-operative       1   \n",
              "2  CompanySponsored          C3000    ProductDev   Association       1   \n",
              "3  CompanySponsored          C2000  Preservation         Trust       1   \n",
              "4       Independent          C1000     Heathcare         Trust       1   \n",
              "\n",
              "      INCOME_AMT SPECIAL_CONSIDERATIONS  ASK_AMT  IS_SUCCESSFUL  \n",
              "0              0                      N     5000              1  \n",
              "1         1-9999                      N   108590              1  \n",
              "2              0                      N     5000              0  \n",
              "3    10000-24999                      N     6692              1  \n",
              "4  100000-499999                      N   142590              1  "
            ],
            "text/html": [
              "\n",
              "  <div id=\"df-a29d985e-3f79-4842-b248-58f76139ba8a\">\n",
              "    <div class=\"colab-df-container\">\n",
              "      <div>\n",
              "<style scoped>\n",
              "    .dataframe tbody tr th:only-of-type {\n",
              "        vertical-align: middle;\n",
              "    }\n",
              "\n",
              "    .dataframe tbody tr th {\n",
              "        vertical-align: top;\n",
              "    }\n",
              "\n",
              "    .dataframe thead th {\n",
              "        text-align: right;\n",
              "    }\n",
              "</style>\n",
              "<table border=\"1\" class=\"dataframe\">\n",
              "  <thead>\n",
              "    <tr style=\"text-align: right;\">\n",
              "      <th></th>\n",
              "      <th>EIN</th>\n",
              "      <th>NAME</th>\n",
              "      <th>APPLICATION_TYPE</th>\n",
              "      <th>AFFILIATION</th>\n",
              "      <th>CLASSIFICATION</th>\n",
              "      <th>USE_CASE</th>\n",
              "      <th>ORGANIZATION</th>\n",
              "      <th>STATUS</th>\n",
              "      <th>INCOME_AMT</th>\n",
              "      <th>SPECIAL_CONSIDERATIONS</th>\n",
              "      <th>ASK_AMT</th>\n",
              "      <th>IS_SUCCESSFUL</th>\n",
              "    </tr>\n",
              "  </thead>\n",
              "  <tbody>\n",
              "    <tr>\n",
              "      <th>0</th>\n",
              "      <td>10520599</td>\n",
              "      <td>BLUE KNIGHTS MOTORCYCLE CLUB</td>\n",
              "      <td>T10</td>\n",
              "      <td>Independent</td>\n",
              "      <td>C1000</td>\n",
              "      <td>ProductDev</td>\n",
              "      <td>Association</td>\n",
              "      <td>1</td>\n",
              "      <td>0</td>\n",
              "      <td>N</td>\n",
              "      <td>5000</td>\n",
              "      <td>1</td>\n",
              "    </tr>\n",
              "    <tr>\n",
              "      <th>1</th>\n",
              "      <td>10531628</td>\n",
              "      <td>AMERICAN CHESAPEAKE CLUB CHARITABLE TR</td>\n",
              "      <td>T3</td>\n",
              "      <td>Independent</td>\n",
              "      <td>C2000</td>\n",
              "      <td>Preservation</td>\n",
              "      <td>Co-operative</td>\n",
              "      <td>1</td>\n",
              "      <td>1-9999</td>\n",
              "      <td>N</td>\n",
              "      <td>108590</td>\n",
              "      <td>1</td>\n",
              "    </tr>\n",
              "    <tr>\n",
              "      <th>2</th>\n",
              "      <td>10547893</td>\n",
              "      <td>ST CLOUD PROFESSIONAL FIREFIGHTERS</td>\n",
              "      <td>T5</td>\n",
              "      <td>CompanySponsored</td>\n",
              "      <td>C3000</td>\n",
              "      <td>ProductDev</td>\n",
              "      <td>Association</td>\n",
              "      <td>1</td>\n",
              "      <td>0</td>\n",
              "      <td>N</td>\n",
              "      <td>5000</td>\n",
              "      <td>0</td>\n",
              "    </tr>\n",
              "    <tr>\n",
              "      <th>3</th>\n",
              "      <td>10553066</td>\n",
              "      <td>SOUTHSIDE ATHLETIC ASSOCIATION</td>\n",
              "      <td>T3</td>\n",
              "      <td>CompanySponsored</td>\n",
              "      <td>C2000</td>\n",
              "      <td>Preservation</td>\n",
              "      <td>Trust</td>\n",
              "      <td>1</td>\n",
              "      <td>10000-24999</td>\n",
              "      <td>N</td>\n",
              "      <td>6692</td>\n",
              "      <td>1</td>\n",
              "    </tr>\n",
              "    <tr>\n",
              "      <th>4</th>\n",
              "      <td>10556103</td>\n",
              "      <td>GENETIC RESEARCH INSTITUTE OF THE DESERT</td>\n",
              "      <td>T3</td>\n",
              "      <td>Independent</td>\n",
              "      <td>C1000</td>\n",
              "      <td>Heathcare</td>\n",
              "      <td>Trust</td>\n",
              "      <td>1</td>\n",
              "      <td>100000-499999</td>\n",
              "      <td>N</td>\n",
              "      <td>142590</td>\n",
              "      <td>1</td>\n",
              "    </tr>\n",
              "  </tbody>\n",
              "</table>\n",
              "</div>\n",
              "      <button class=\"colab-df-convert\" onclick=\"convertToInteractive('df-a29d985e-3f79-4842-b248-58f76139ba8a')\"\n",
              "              title=\"Convert this dataframe to an interactive table.\"\n",
              "              style=\"display:none;\">\n",
              "        \n",
              "  <svg xmlns=\"http://www.w3.org/2000/svg\" height=\"24px\"viewBox=\"0 0 24 24\"\n",
              "       width=\"24px\">\n",
              "    <path d=\"M0 0h24v24H0V0z\" fill=\"none\"/>\n",
              "    <path d=\"M18.56 5.44l.94 2.06.94-2.06 2.06-.94-2.06-.94-.94-2.06-.94 2.06-2.06.94zm-11 1L8.5 8.5l.94-2.06 2.06-.94-2.06-.94L8.5 2.5l-.94 2.06-2.06.94zm10 10l.94 2.06.94-2.06 2.06-.94-2.06-.94-.94-2.06-.94 2.06-2.06.94z\"/><path d=\"M17.41 7.96l-1.37-1.37c-.4-.4-.92-.59-1.43-.59-.52 0-1.04.2-1.43.59L10.3 9.45l-7.72 7.72c-.78.78-.78 2.05 0 2.83L4 21.41c.39.39.9.59 1.41.59.51 0 1.02-.2 1.41-.59l7.78-7.78 2.81-2.81c.8-.78.8-2.07 0-2.86zM5.41 20L4 18.59l7.72-7.72 1.47 1.35L5.41 20z\"/>\n",
              "  </svg>\n",
              "      </button>\n",
              "      \n",
              "  <style>\n",
              "    .colab-df-container {\n",
              "      display:flex;\n",
              "      flex-wrap:wrap;\n",
              "      gap: 12px;\n",
              "    }\n",
              "\n",
              "    .colab-df-convert {\n",
              "      background-color: #E8F0FE;\n",
              "      border: none;\n",
              "      border-radius: 50%;\n",
              "      cursor: pointer;\n",
              "      display: none;\n",
              "      fill: #1967D2;\n",
              "      height: 32px;\n",
              "      padding: 0 0 0 0;\n",
              "      width: 32px;\n",
              "    }\n",
              "\n",
              "    .colab-df-convert:hover {\n",
              "      background-color: #E2EBFA;\n",
              "      box-shadow: 0px 1px 2px rgba(60, 64, 67, 0.3), 0px 1px 3px 1px rgba(60, 64, 67, 0.15);\n",
              "      fill: #174EA6;\n",
              "    }\n",
              "\n",
              "    [theme=dark] .colab-df-convert {\n",
              "      background-color: #3B4455;\n",
              "      fill: #D2E3FC;\n",
              "    }\n",
              "\n",
              "    [theme=dark] .colab-df-convert:hover {\n",
              "      background-color: #434B5C;\n",
              "      box-shadow: 0px 1px 3px 1px rgba(0, 0, 0, 0.15);\n",
              "      filter: drop-shadow(0px 1px 2px rgba(0, 0, 0, 0.3));\n",
              "      fill: #FFFFFF;\n",
              "    }\n",
              "  </style>\n",
              "\n",
              "      <script>\n",
              "        const buttonEl =\n",
              "          document.querySelector('#df-a29d985e-3f79-4842-b248-58f76139ba8a button.colab-df-convert');\n",
              "        buttonEl.style.display =\n",
              "          google.colab.kernel.accessAllowed ? 'block' : 'none';\n",
              "\n",
              "        async function convertToInteractive(key) {\n",
              "          const element = document.querySelector('#df-a29d985e-3f79-4842-b248-58f76139ba8a');\n",
              "          const dataTable =\n",
              "            await google.colab.kernel.invokeFunction('convertToInteractive',\n",
              "                                                     [key], {});\n",
              "          if (!dataTable) return;\n",
              "\n",
              "          const docLinkHtml = 'Like what you see? Visit the ' +\n",
              "            '<a target=\"_blank\" href=https://colab.research.google.com/notebooks/data_table.ipynb>data table notebook</a>'\n",
              "            + ' to learn more about interactive tables.';\n",
              "          element.innerHTML = '';\n",
              "          dataTable['output_type'] = 'display_data';\n",
              "          await google.colab.output.renderOutput(dataTable, element);\n",
              "          const docLink = document.createElement('div');\n",
              "          docLink.innerHTML = docLinkHtml;\n",
              "          element.appendChild(docLink);\n",
              "        }\n",
              "      </script>\n",
              "    </div>\n",
              "  </div>\n",
              "  "
            ]
          },
          "metadata": {},
          "execution_count": 4
        }
      ],
      "source": [
        "# Import our dependencies\n",
        "from sklearn.model_selection import train_test_split\n",
        "from sklearn.preprocessing import StandardScaler,OneHotEncoder\n",
        "import pandas as pd\n",
        "import tensorflow as tf\n",
        "\n",
        "#  Import and read the charity_data.csv.\n",
        "import pandas as pd \n",
        "#application_df = pd.read_csv(\"charity_data.csv\")\n",
        "application_df.head()"
      ]
    },
    {
      "cell_type": "code",
      "source": [
        "# Drop the non-beneficial ID columns\n",
        "application_df = application_df.drop([\"EIN\"],1)"
      ],
      "metadata": {
        "colab": {
          "base_uri": "https://localhost:8080/"
        },
        "id": "rax7YyxY_c-V",
        "outputId": "cf8a9342-2e8a-443c-b9bd-8882a635b48c"
      },
      "execution_count": 5,
      "outputs": [
        {
          "output_type": "stream",
          "name": "stderr",
          "text": [
            "<ipython-input-5-4e232158d745>:2: FutureWarning: In a future version of pandas all arguments of DataFrame.drop except for the argument 'labels' will be keyword-only\n",
            "  application_df = application_df.drop([\"EIN\"],1)\n"
          ]
        }
      ]
    },
    {
      "cell_type": "code",
      "execution_count": 6,
      "metadata": {
        "colab": {
          "base_uri": "https://localhost:8080/"
        },
        "id": "lAcIiPPuv7O4",
        "outputId": "5eba6de0-6b23-4110-d8bb-966e155e8e5d"
      },
      "outputs": [
        {
          "output_type": "execute_result",
          "data": {
            "text/plain": [
              "NAME                      19568\n",
              "APPLICATION_TYPE             17\n",
              "AFFILIATION                   6\n",
              "CLASSIFICATION               71\n",
              "USE_CASE                      5\n",
              "ORGANIZATION                  4\n",
              "STATUS                        2\n",
              "INCOME_AMT                    9\n",
              "SPECIAL_CONSIDERATIONS        2\n",
              "ASK_AMT                    8747\n",
              "IS_SUCCESSFUL                 2\n",
              "dtype: int64"
            ]
          },
          "metadata": {},
          "execution_count": 6
        }
      ],
      "source": [
        "# Determine the number of unique values in each column.\n",
        "application_df.nunique()"
      ]
    },
    {
      "cell_type": "code",
      "execution_count": 7,
      "metadata": {
        "colab": {
          "base_uri": "https://localhost:8080/"
        },
        "id": "pUepRtjDv7O5",
        "outputId": "7dd470ca-5bd2-4764-87f1-7140f57fc51f"
      },
      "outputs": [
        {
          "output_type": "execute_result",
          "data": {
            "text/plain": [
              "PARENT BOOSTER USA INC                             1260\n",
              "TOPS CLUB INC                                       765\n",
              "UNITED STATES BOWLING CONGRESS INC                  700\n",
              "WASHINGTON STATE UNIVERSITY                         492\n",
              "AMATEUR ATHLETIC UNION OF THE UNITED STATES INC     408\n",
              "                                                   ... \n",
              "OLD OAK CLIFF CONSERVATION LEAGUE INC                 6\n",
              "AMERICAN NEPHROLOGY NURSES ASSOCIATION                6\n",
              "HUMBLE ISD EDUCATIONAL SUPPORT GROUPS INC             6\n",
              "PROFESSIONAL LOADMASTER ASSOCIATION                   6\n",
              "CBMC INC                                              6\n",
              "Name: NAME, Length: 354, dtype: int64"
            ]
          },
          "metadata": {},
          "execution_count": 7
        }
      ],
      "source": [
        "# Look at NAME value counts for binning\n",
        "name_counts = application_df.NAME.value_counts()\n",
        "#  How many name counts are greater than 5?\n",
        "name_counts[name_counts>5]"
      ]
    },
    {
      "cell_type": "code",
      "execution_count": 8,
      "metadata": {
        "colab": {
          "base_uri": "https://localhost:8080/"
        },
        "id": "-N7Zuygzv7O5",
        "outputId": "efead0c1-0ec1-499b-8b5b-da38902cde93"
      },
      "outputs": [
        {
          "output_type": "execute_result",
          "data": {
            "text/plain": [
              "FLORIDA FAMILY CHILD CARE HOME ASSOCIATION INC                          5\n",
              "GERONTOLOGICAL ADVANCED PRACTICE NURSES ASSOCIATION                     5\n",
              "INTERNATIONL TRANSPLANT NURSES SOCIETY                                  5\n",
              "NATIONAL ORGANIZATION FOR WOMEN INC                                     5\n",
              "PTA HAWAII CONGRESS                                                     5\n",
              "                                                                       ..\n",
              "ST LOUIS SLAM WOMENS FOOTBALL                                           1\n",
              "AIESEC ALUMNI IBEROAMERICA CORP                                         1\n",
              "WEALLBLEEDRED ORG INC                                                   1\n",
              "AMERICAN SOCIETY FOR STANDARDS IN MEDIUMSHIP & PSYCHICAL INVESTIGATI    1\n",
              "WATERHOUSE CHARITABLE TR                                                1\n",
              "Name: NAME, Length: 19214, dtype: int64"
            ]
          },
          "metadata": {},
          "execution_count": 8
        }
      ],
      "source": [
        "#  How many name counts are less than or equal to 5?\n",
        "name_counts[name_counts <= 5]"
      ]
    },
    {
      "cell_type": "code",
      "execution_count": 9,
      "metadata": {
        "colab": {
          "base_uri": "https://localhost:8080/",
          "height": 282
        },
        "id": "ae7PFDS1v7O5",
        "outputId": "4bf1526f-049d-4d4d-c5fa-ded74517c0ba"
      },
      "outputs": [
        {
          "output_type": "execute_result",
          "data": {
            "text/plain": [
              "<AxesSubplot:ylabel='Density'>"
            ]
          },
          "metadata": {},
          "execution_count": 9
        },
        {
          "output_type": "display_data",
          "data": {
            "text/plain": [
              "<Figure size 432x288 with 1 Axes>"
            ],
            "image/png": "[encoded data removed]"
          },
          "metadata": {
            "needs_background": "light"
          }
        }
      ],
      "source": [
        "# Visualize the value counts of NAME\n",
        "name_counts.plot.density()"
      ]
    },
    {
      "cell_type": "code",
      "execution_count": 10,
      "metadata": {
        "colab": {
          "base_uri": "https://localhost:8080/"
        },
        "id": "HnDdOJAyv7O6",
        "outputId": "5826b356-43a7-4d20-8b67-3ea82dac1d6d"
      },
      "outputs": [
        {
          "output_type": "execute_result",
          "data": {
            "text/plain": [
              "Other                                           20043\n",
              "PARENT BOOSTER USA INC                           1260\n",
              "TOPS CLUB INC                                     765\n",
              "UNITED STATES BOWLING CONGRESS INC                700\n",
              "WASHINGTON STATE UNIVERSITY                       492\n",
              "                                                ...  \n",
              "HABITAT FOR HUMANITY INTERNATIONAL                  6\n",
              "DAMAGE PREVENTION COUNCIL OF TEXAS                  6\n",
              "FLEET RESERVE ASSOCIATION                           6\n",
              "HUGH OBRIAN YOUTH LEADERSHIP                        6\n",
              "INTERNATIONAL CONGRESS OF CHURCHES MINISTERS        6\n",
              "Name: NAME, Length: 355, dtype: int64"
            ]
          },
          "metadata": {},
          "execution_count": 10
        }
      ],
      "source": [
        "# Determine which values to replace if counts are less than or equal to 5.\n",
        "replace_application = list(name_counts[name_counts <= 5].index)\n",
        "\n",
        "# Replace in dataframe\n",
        "for app in replace_application:\n",
        "    application_df.NAME = application_df.NAME.replace(app,\"Other\")\n",
        "    \n",
        "# Check to make sure binning was successful\n",
        "application_df.NAME.value_counts()"
      ]
    },
    {
      "cell_type": "code",
      "execution_count": 11,
      "metadata": {
        "colab": {
          "base_uri": "https://localhost:8080/"
        },
        "id": "wvhfg7Kev7O6",
        "outputId": "8e01a38e-7dfa-4e0a-b361-2cfb46905fd1"
      },
      "outputs": [
        {
          "output_type": "execute_result",
          "data": {
            "text/plain": [
              "T3     27037\n",
              "T4      1542\n",
              "T6      1216\n",
              "T5      1173\n",
              "T19     1065\n",
              "T8       737\n",
              "T7       725\n",
              "T10      528\n",
              "T9       156\n",
              "T13       66\n",
              "T12       27\n",
              "T2        16\n",
              "T25        3\n",
              "T14        3\n",
              "T29        2\n",
              "T15        2\n",
              "T17        1\n",
              "Name: APPLICATION_TYPE, dtype: int64"
            ]
          },
          "metadata": {},
          "execution_count": 11
        }
      ],
      "source": [
        "# Look at APPLICATION_TYPE value counts for binning\n",
        "application_counts = application_df.APPLICATION_TYPE.value_counts()\n",
        "application_counts"
      ]
    },
    {
      "cell_type": "code",
      "execution_count": 12,
      "metadata": {
        "colab": {
          "base_uri": "https://localhost:8080/"
        },
        "id": "75lAJOhBv7O7",
        "outputId": "8cc66c70-74af-42f9-8f0d-c0437e8778ee"
      },
      "outputs": [
        {
          "output_type": "execute_result",
          "data": {
            "text/plain": [
              "T3       27037\n",
              "T4        1542\n",
              "T6        1216\n",
              "T5        1173\n",
              "T19       1065\n",
              "T8         737\n",
              "T7         725\n",
              "T10        528\n",
              "Other      276\n",
              "Name: APPLICATION_TYPE, dtype: int64"
            ]
          },
          "metadata": {},
          "execution_count": 12
        }
      ],
      "source": [
        "# Determine which values to replace if counts are less than 500\n",
        "replace_application = list(application_counts[application_counts < 500].index)\n",
        "\n",
        "# Replace in dataframe\n",
        "for app in replace_application:\n",
        "    application_df.APPLICATION_TYPE = application_df.APPLICATION_TYPE.replace(app,\"Other\")\n",
        "    \n",
        "# Check to make sure binning was successful\n",
        "application_df.APPLICATION_TYPE.value_counts()"
      ]
    },
    {
      "cell_type": "code",
      "execution_count": 13,
      "metadata": {
        "colab": {
          "base_uri": "https://localhost:8080/"
        },
        "id": "O8Vxe4yGv7O7",
        "outputId": "58ac86c3-331d-4551-9af7-3747444b30d3"
      },
      "outputs": [
        {
          "output_type": "execute_result",
          "data": {
            "text/plain": [
              "C1000    17326\n",
              "C2000     6074\n",
              "C1200     4837\n",
              "C3000     1918\n",
              "C2100     1883\n",
              "         ...  \n",
              "C4120        1\n",
              "C8210        1\n",
              "C2561        1\n",
              "C4500        1\n",
              "C2150        1\n",
              "Name: CLASSIFICATION, Length: 71, dtype: int64"
            ]
          },
          "metadata": {},
          "execution_count": 13
        }
      ],
      "source": [
        "# Look at CLASSIFICATION value counts for binning\n",
        "class_counts = application_df.CLASSIFICATION.value_counts()\n",
        "class_counts"
      ]
    },
    {
      "cell_type": "code",
      "execution_count": 14,
      "metadata": {
        "colab": {
          "base_uri": "https://localhost:8080/"
        },
        "id": "YMeEgttDv7O7",
        "outputId": "806d7a47-36b7-4a2e-d24e-84ebd593b429"
      },
      "outputs": [
        {
          "output_type": "execute_result",
          "data": {
            "text/plain": [
              "C1000    17326\n",
              "C2000     6074\n",
              "C1200     4837\n",
              "Other     2261\n",
              "C3000     1918\n",
              "C2100     1883\n",
              "Name: CLASSIFICATION, dtype: int64"
            ]
          },
          "metadata": {},
          "execution_count": 14
        }
      ],
      "source": [
        "# Determine which values to replace if counts are less than 1000\n",
        "replace_class = list(class_counts[class_counts < 1000].index)\n",
        "\n",
        "# Replace in dataframe\n",
        "for cls in replace_class:\n",
        "    application_df.CLASSIFICATION = application_df.CLASSIFICATION.replace(cls,\"Other\")\n",
        "    \n",
        "# Check to make sure binning was successful\n",
        "application_df.CLASSIFICATION.value_counts()"
      ]
    },
    {
      "cell_type": "code",
      "execution_count": 15,
      "metadata": {
        "id": "m0d_dTUlv7O7"
      },
      "outputs": [],
      "source": [
        "# Generate our categorical variable lists\n",
        "application_cat = application_df.dtypes[application_df.dtypes == \"object\"].index.tolist()"
      ]
    },
    {
      "cell_type": "code",
      "execution_count": 16,
      "metadata": {
        "colab": {
          "base_uri": "https://localhost:8080/",
          "height": 421
        },
        "id": "cQwp_JJZv7O8",
        "outputId": "7b4dd249-fa73-4c3b-e525-04e23a7be450"
      },
      "outputs": [
        {
          "output_type": "stream",
          "name": "stderr",
          "text": [
            "/usr/local/lib/python3.9/dist-packages/sklearn/preprocessing/_encoders.py:828: FutureWarning: `sparse` was renamed to `sparse_output` in version 1.2 and will be removed in 1.4. `sparse_output` is ignored unless you leave `sparse` to its default value.\n",
            "  warnings.warn(\n"
          ]
        },
        {
          "output_type": "execute_result",
          "data": {
            "text/plain": [
              "   NAME_AACE INTERNATIONAL  NAME_ACE MENTOR PROGRAM OF AMERICA INC  \\\n",
              "0                      0.0                                     0.0   \n",
              "1                      0.0                                     0.0   \n",
              "2                      0.0                                     0.0   \n",
              "3                      0.0                                     0.0   \n",
              "4                      0.0                                     0.0   \n",
              "\n",
              "   NAME_AFRICAN-AMERICAN POSTAL LEAGUE UNITED FOR SUCCESS A-PLUS  \\\n",
              "0                                                0.0               \n",
              "1                                                0.0               \n",
              "2                                                0.0               \n",
              "3                                                0.0               \n",
              "4                                                0.0               \n",
              "\n",
              "   NAME_AIR FORCE ASSOCIATION  NAME_ALABAMA FEDERATION OF WOMENS CLUBS  \\\n",
              "0                         0.0                                      0.0   \n",
              "1                         0.0                                      0.0   \n",
              "2                         0.0                                      0.0   \n",
              "3                         0.0                                      0.0   \n",
              "4                         0.0                                      0.0   \n",
              "\n",
              "   NAME_ALABAMA TREASURE FOREST ASSOCIATION  \\\n",
              "0                                       0.0   \n",
              "1                                       0.0   \n",
              "2                                       0.0   \n",
              "3                                       0.0   \n",
              "4                                       0.0   \n",
              "\n",
              "   NAME_ALBANY STATE UNIVERSITY NATIONAL ALUMNI ASSOCIATION  \\\n",
              "0                                                0.0          \n",
              "1                                                0.0          \n",
              "2                                                0.0          \n",
              "3                                                0.0          \n",
              "4                                                0.0          \n",
              "\n",
              "   NAME_ALPHA PHI OMEGA  NAME_ALPHA PHI SIGMA  NAME_ALPHA PHI SIGMA INC  ...  \\\n",
              "0                   0.0                   0.0                       0.0  ...   \n",
              "1                   0.0                   0.0                       0.0  ...   \n",
              "2                   0.0                   0.0                       0.0  ...   \n",
              "3                   0.0                   0.0                       0.0  ...   \n",
              "4                   0.0                   0.0                       0.0  ...   \n",
              "\n",
              "   INCOME_AMT_1-9999  INCOME_AMT_10000-24999  INCOME_AMT_100000-499999  \\\n",
              "0                0.0                     0.0                       0.0   \n",
              "1                1.0                     0.0                       0.0   \n",
              "2                0.0                     0.0                       0.0   \n",
              "3                0.0                     1.0                       0.0   \n",
              "4                0.0                     0.0                       1.0   \n",
              "\n",
              "   INCOME_AMT_10M-50M  INCOME_AMT_1M-5M  INCOME_AMT_25000-99999  \\\n",
              "0                 0.0               0.0                     0.0   \n",
              "1                 0.0               0.0                     0.0   \n",
              "2                 0.0               0.0                     0.0   \n",
              "3                 0.0               0.0                     0.0   \n",
              "4                 0.0               0.0                     0.0   \n",
              "\n",
              "   INCOME_AMT_50M+  INCOME_AMT_5M-10M  SPECIAL_CONSIDERATIONS_N  \\\n",
              "0              0.0                0.0                       1.0   \n",
              "1              0.0                0.0                       1.0   \n",
              "2              0.0                0.0                       1.0   \n",
              "3              0.0                0.0                       1.0   \n",
              "4              0.0                0.0                       1.0   \n",
              "\n",
              "   SPECIAL_CONSIDERATIONS_Y  \n",
              "0                       0.0  \n",
              "1                       0.0  \n",
              "2                       0.0  \n",
              "3                       0.0  \n",
              "4                       0.0  \n",
              "\n",
              "[5 rows x 396 columns]"
            ],
            "text/html": [
              "\n",
              "  <div id=\"df-04943746-e4ca-4510-b133-21f74f259798\">\n",
              "    <div class=\"colab-df-container\">\n",
              "      <div>\n",
              "<style scoped>\n",
              "    .dataframe tbody tr th:only-of-type {\n",
              "        vertical-align: middle;\n",
              "    }\n",
              "\n",
              "    .dataframe tbody tr th {\n",
              "        vertical-align: top;\n",
              "    }\n",
              "\n",
              "    .dataframe thead th {\n",
              "        text-align: right;\n",
              "    }\n",
              "</style>\n",
              "<table border=\"1\" class=\"dataframe\">\n",
              "  <thead>\n",
              "    <tr style=\"text-align: right;\">\n",
              "      <th></th>\n",
              "      <th>NAME_AACE INTERNATIONAL</th>\n",
              "      <th>NAME_ACE MENTOR PROGRAM OF AMERICA INC</th>\n",
              "      <th>NAME_AFRICAN-AMERICAN POSTAL LEAGUE UNITED FOR SUCCESS A-PLUS</th>\n",
              "      <th>NAME_AIR FORCE ASSOCIATION</th>\n",
              "      <th>NAME_ALABAMA FEDERATION OF WOMENS CLUBS</th>\n",
              "      <th>NAME_ALABAMA TREASURE FOREST ASSOCIATION</th>\n",
              "      <th>NAME_ALBANY STATE UNIVERSITY NATIONAL ALUMNI ASSOCIATION</th>\n",
              "      <th>NAME_ALPHA PHI OMEGA</th>\n",
              "      <th>NAME_ALPHA PHI SIGMA</th>\n",
              "      <th>NAME_ALPHA PHI SIGMA INC</th>\n",
              "      <th>...</th>\n",
              "      <th>INCOME_AMT_1-9999</th>\n",
              "      <th>INCOME_AMT_10000-24999</th>\n",
              "      <th>INCOME_AMT_100000-499999</th>\n",
              "      <th>INCOME_AMT_10M-50M</th>\n",
              "      <th>INCOME_AMT_1M-5M</th>\n",
              "      <th>INCOME_AMT_25000-99999</th>\n",
              "      <th>INCOME_AMT_50M+</th>\n",
              "      <th>INCOME_AMT_5M-10M</th>\n",
              "      <th>SPECIAL_CONSIDERATIONS_N</th>\n",
              "      <th>SPECIAL_CONSIDERATIONS_Y</th>\n",
              "    </tr>\n",
              "  </thead>\n",
              "  <tbody>\n",
              "    <tr>\n",
              "      <th>0</th>\n",
              "      <td>0.0</td>\n",
              "      <td>0.0</td>\n",
              "      <td>0.0</td>\n",
              "      <td>0.0</td>\n",
              "      <td>0.0</td>\n",
              "      <td>0.0</td>\n",
              "      <td>0.0</td>\n",
              "      <td>0.0</td>\n",
              "      <td>0.0</td>\n",
              "      <td>0.0</td>\n",
              "      <td>...</td>\n",
              "      <td>0.0</td>\n",
              "      <td>0.0</td>\n",
              "      <td>0.0</td>\n",
              "      <td>0.0</td>\n",
              "      <td>0.0</td>\n",
              "      <td>0.0</td>\n",
              "      <td>0.0</td>\n",
              "      <td>0.0</td>\n",
              "      <td>1.0</td>\n",
              "      <td>0.0</td>\n",
              "    </tr>\n",
              "    <tr>\n",
              "      <th>1</th>\n",
              "      <td>0.0</td>\n",
              "      <td>0.0</td>\n",
              "      <td>0.0</td>\n",
              "      <td>0.0</td>\n",
              "      <td>0.0</td>\n",
              "      <td>0.0</td>\n",
              "      <td>0.0</td>\n",
              "      <td>0.0</td>\n",
              "      <td>0.0</td>\n",
              "      <td>0.0</td>\n",
              "      <td>...</td>\n",
              "      <td>1.0</td>\n",
              "      <td>0.0</td>\n",
              "      <td>0.0</td>\n",
              "      <td>0.0</td>\n",
              "      <td>0.0</td>\n",
              "      <td>0.0</td>\n",
              "      <td>0.0</td>\n",
              "      <td>0.0</td>\n",
              "      <td>1.0</td>\n",
              "      <td>0.0</td>\n",
              "    </tr>\n",
              "    <tr>\n",
              "      <th>2</th>\n",
              "      <td>0.0</td>\n",
              "      <td>0.0</td>\n",
              "      <td>0.0</td>\n",
              "      <td>0.0</td>\n",
              "      <td>0.0</td>\n",
              "      <td>0.0</td>\n",
              "      <td>0.0</td>\n",
              "      <td>0.0</td>\n",
              "      <td>0.0</td>\n",
              "      <td>0.0</td>\n",
              "      <td>...</td>\n",
              "      <td>0.0</td>\n",
              "      <td>0.0</td>\n",
              "      <td>0.0</td>\n",
              "      <td>0.0</td>\n",
              "      <td>0.0</td>\n",
              "      <td>0.0</td>\n",
              "      <td>0.0</td>\n",
              "      <td>0.0</td>\n",
              "      <td>1.0</td>\n",
              "      <td>0.0</td>\n",
              "    </tr>\n",
              "    <tr>\n",
              "      <th>3</th>\n",
              "      <td>0.0</td>\n",
              "      <td>0.0</td>\n",
              "      <td>0.0</td>\n",
              "      <td>0.0</td>\n",
              "      <td>0.0</td>\n",
              "      <td>0.0</td>\n",
              "      <td>0.0</td>\n",
              "      <td>0.0</td>\n",
              "      <td>0.0</td>\n",
              "      <td>0.0</td>\n",
              "      <td>...</td>\n",
              "      <td>0.0</td>\n",
              "      <td>1.0</td>\n",
              "      <td>0.0</td>\n",
              "      <td>0.0</td>\n",
              "      <td>0.0</td>\n",
              "      <td>0.0</td>\n",
              "      <td>0.0</td>\n",
              "      <td>0.0</td>\n",
              "      <td>1.0</td>\n",
              "      <td>0.0</td>\n",
              "    </tr>\n",
              "    <tr>\n",
              "      <th>4</th>\n",
              "      <td>0.0</td>\n",
              "      <td>0.0</td>\n",
              "      <td>0.0</td>\n",
              "      <td>0.0</td>\n",
              "      <td>0.0</td>\n",
              "      <td>0.0</td>\n",
              "      <td>0.0</td>\n",
              "      <td>0.0</td>\n",
              "      <td>0.0</td>\n",
              "      <td>0.0</td>\n",
              "      <td>...</td>\n",
              "      <td>0.0</td>\n",
              "      <td>0.0</td>\n",
              "      <td>1.0</td>\n",
              "      <td>0.0</td>\n",
              "      <td>0.0</td>\n",
              "      <td>0.0</td>\n",
              "      <td>0.0</td>\n",
              "      <td>0.0</td>\n",
              "      <td>1.0</td>\n",
              "      <td>0.0</td>\n",
              "    </tr>\n",
              "  </tbody>\n",
              "</table>\n",
              "<p>5 rows × 396 columns</p>\n",
              "</div>\n",
              "      <button class=\"colab-df-convert\" onclick=\"convertToInteractive('df-04943746-e4ca-4510-b133-21f74f259798')\"\n",
              "              title=\"Convert this dataframe to an interactive table.\"\n",
              "              style=\"display:none;\">\n",
              "        \n",
              "  <svg xmlns=\"http://www.w3.org/2000/svg\" height=\"24px\"viewBox=\"0 0 24 24\"\n",
              "       width=\"24px\">\n",
              "    <path d=\"M0 0h24v24H0V0z\" fill=\"none\"/>\n",
              "    <path d=\"M18.56 5.44l.94 2.06.94-2.06 2.06-.94-2.06-.94-.94-2.06-.94 2.06-2.06.94zm-11 1L8.5 8.5l.94-2.06 2.06-.94-2.06-.94L8.5 2.5l-.94 2.06-2.06.94zm10 10l.94 2.06.94-2.06 2.06-.94-2.06-.94-.94-2.06-.94 2.06-2.06.94z\"/><path d=\"M17.41 7.96l-1.37-1.37c-.4-.4-.92-.59-1.43-.59-.52 0-1.04.2-1.43.59L10.3 9.45l-7.72 7.72c-.78.78-.78 2.05 0 2.83L4 21.41c.39.39.9.59 1.41.59.51 0 1.02-.2 1.41-.59l7.78-7.78 2.81-2.81c.8-.78.8-2.07 0-2.86zM5.41 20L4 18.59l7.72-7.72 1.47 1.35L5.41 20z\"/>\n",
              "  </svg>\n",
              "      </button>\n",
              "      \n",
              "  <style>\n",
              "    .colab-df-container {\n",
              "      display:flex;\n",
              "      flex-wrap:wrap;\n",
              "      gap: 12px;\n",
              "    }\n",
              "\n",
              "    .colab-df-convert {\n",
              "      background-color: #E8F0FE;\n",
              "      border: none;\n",
              "      border-radius: 50%;\n",
              "      cursor: pointer;\n",
              "      display: none;\n",
              "      fill: #1967D2;\n",
              "      height: 32px;\n",
              "      padding: 0 0 0 0;\n",
              "      width: 32px;\n",
              "    }\n",
              "\n",
              "    .colab-df-convert:hover {\n",
              "      background-color: #E2EBFA;\n",
              "      box-shadow: 0px 1px 2px rgba(60, 64, 67, 0.3), 0px 1px 3px 1px rgba(60, 64, 67, 0.15);\n",
              "      fill: #174EA6;\n",
              "    }\n",
              "\n",
              "    [theme=dark] .colab-df-convert {\n",
              "      background-color: #3B4455;\n",
              "      fill: #D2E3FC;\n",
              "    }\n",
              "\n",
              "    [theme=dark] .colab-df-convert:hover {\n",
              "      background-color: #434B5C;\n",
              "      box-shadow: 0px 1px 3px 1px rgba(0, 0, 0, 0.15);\n",
              "      filter: drop-shadow(0px 1px 2px rgba(0, 0, 0, 0.3));\n",
              "      fill: #FFFFFF;\n",
              "    }\n",
              "  </style>\n",
              "\n",
              "      <script>\n",
              "        const buttonEl =\n",
              "          document.querySelector('#df-04943746-e4ca-4510-b133-21f74f259798 button.colab-df-convert');\n",
              "        buttonEl.style.display =\n",
              "          google.colab.kernel.accessAllowed ? 'block' : 'none';\n",
              "\n",
              "        async function convertToInteractive(key) {\n",
              "          const element = document.querySelector('#df-04943746-e4ca-4510-b133-21f74f259798');\n",
              "          const dataTable =\n",
              "            await google.colab.kernel.invokeFunction('convertToInteractive',\n",
              "                                                     [key], {});\n",
              "          if (!dataTable) return;\n",
              "\n",
              "          const docLinkHtml = 'Like what you see? Visit the ' +\n",
              "            '<a target=\"_blank\" href=https://colab.research.google.com/notebooks/data_table.ipynb>data table notebook</a>'\n",
              "            + ' to learn more about interactive tables.';\n",
              "          element.innerHTML = '';\n",
              "          dataTable['output_type'] = 'display_data';\n",
              "          await google.colab.output.renderOutput(dataTable, element);\n",
              "          const docLink = document.createElement('div');\n",
              "          docLink.innerHTML = docLinkHtml;\n",
              "          element.appendChild(docLink);\n",
              "        }\n",
              "      </script>\n",
              "    </div>\n",
              "  </div>\n",
              "  "
            ]
          },
          "metadata": {},
          "execution_count": 16
        }
      ],
      "source": [
        "# Create a OneHotEncoder instance\n",
        "enc = OneHotEncoder(sparse=False)\n",
        "\n",
        "# Fit and transform the OneHotEncoder using the categorical variable list\n",
        "encode_df = pd.DataFrame(enc.fit_transform(application_df[application_cat]))\n",
        "\n",
        "# Add the encoded variable names to the dataframe\n",
        "encode_df.columns = enc.get_feature_names_out(application_cat)\n",
        "encode_df.head()"
      ]
    },
    {
      "cell_type": "code",
      "execution_count": 18,
      "metadata": {
        "id": "X7Dvh-cXv7O8",
        "colab": {
          "base_uri": "https://localhost:8080/",
          "height": 436
        },
        "outputId": "0e39213a-4318-46c5-8dc0-7c318c7d5296"
      },
      "outputs": [
        {
          "output_type": "stream",
          "name": "stderr",
          "text": [
            "<ipython-input-18-fae914666e78>:3: FutureWarning: In a future version of pandas all arguments of DataFrame.drop except for the argument 'labels' will be keyword-only\n",
            "  application_df = application_df.drop(application_cat,1)\n"
          ]
        },
        {
          "output_type": "error",
          "ename": "KeyError",
          "evalue": "ignored",
          "traceback": [
            "\u001b[0;31m---------------------------------------------------------------------------\u001b[0m",
            "\u001b[0;31mKeyError\u001b[0m                                  Traceback (most recent call last)",
            "\u001b[0;32m<ipython-input-18-fae914666e78>\u001b[0m in \u001b[0;36m<module>\u001b[0;34m\u001b[0m\n\u001b[1;32m      1\u001b[0m \u001b[0;31m# Merge one-hot encoded features and drop the originals\u001b[0m\u001b[0;34m\u001b[0m\u001b[0;34m\u001b[0m\u001b[0m\n\u001b[1;32m      2\u001b[0m \u001b[0mapplication_df\u001b[0m \u001b[0;34m=\u001b[0m \u001b[0mapplication_df\u001b[0m\u001b[0;34m.\u001b[0m\u001b[0mmerge\u001b[0m\u001b[0;34m(\u001b[0m\u001b[0mencode_df\u001b[0m\u001b[0;34m,\u001b[0m\u001b[0mleft_index\u001b[0m\u001b[0;34m=\u001b[0m\u001b[0;32mTrue\u001b[0m\u001b[0;34m,\u001b[0m \u001b[0mright_index\u001b[0m\u001b[0;34m=\u001b[0m\u001b[0;32mTrue\u001b[0m\u001b[0;34m)\u001b[0m\u001b[0;34m\u001b[0m\u001b[0;34m\u001b[0m\u001b[0m\n\u001b[0;32m----> 3\u001b[0;31m \u001b[0mapplication_df\u001b[0m \u001b[0;34m=\u001b[0m \u001b[0mapplication_df\u001b[0m\u001b[0;34m.\u001b[0m\u001b[0mdrop\u001b[0m\u001b[0;34m(\u001b[0m\u001b[0mapplication_cat\u001b[0m\u001b[0;34m,\u001b[0m\u001b[0;36m1\u001b[0m\u001b[0;34m)\u001b[0m\u001b[0;34m\u001b[0m\u001b[0;34m\u001b[0m\u001b[0m\n\u001b[0m\u001b[1;32m      4\u001b[0m \u001b[0mapplication_df\u001b[0m\u001b[0;34m.\u001b[0m\u001b[0mhead\u001b[0m\u001b[0;34m(\u001b[0m\u001b[0;34m)\u001b[0m\u001b[0;34m\u001b[0m\u001b[0;34m\u001b[0m\u001b[0m\n",
            "\u001b[0;32m/usr/local/lib/python3.9/dist-packages/pandas/util/_decorators.py\u001b[0m in \u001b[0;36mwrapper\u001b[0;34m(*args, **kwargs)\u001b[0m\n\u001b[1;32m    309\u001b[0m                     \u001b[0mstacklevel\u001b[0m\u001b[0;34m=\u001b[0m\u001b[0mstacklevel\u001b[0m\u001b[0;34m,\u001b[0m\u001b[0;34m\u001b[0m\u001b[0;34m\u001b[0m\u001b[0m\n\u001b[1;32m    310\u001b[0m                 )\n\u001b[0;32m--> 311\u001b[0;31m             \u001b[0;32mreturn\u001b[0m \u001b[0mfunc\u001b[0m\u001b[0;34m(\u001b[0m\u001b[0;34m*\u001b[0m\u001b[0margs\u001b[0m\u001b[0;34m,\u001b[0m \u001b[0;34m**\u001b[0m\u001b[0mkwargs\u001b[0m\u001b[0;34m)\u001b[0m\u001b[0;34m\u001b[0m\u001b[0;34m\u001b[0m\u001b[0m\n\u001b[0m\u001b[1;32m    312\u001b[0m \u001b[0;34m\u001b[0m\u001b[0m\n\u001b[1;32m    313\u001b[0m         \u001b[0;32mreturn\u001b[0m \u001b[0mwrapper\u001b[0m\u001b[0;34m\u001b[0m\u001b[0;34m\u001b[0m\u001b[0m\n",
            "\u001b[0;32m/usr/local/lib/python3.9/dist-packages/pandas/core/frame.py\u001b[0m in \u001b[0;36mdrop\u001b[0;34m(self, labels, axis, index, columns, level, inplace, errors)\u001b[0m\n\u001b[1;32m   4904\u001b[0m                 \u001b[0mweight\u001b[0m  \u001b[0;36m1.0\u001b[0m     \u001b[0;36m0.8\u001b[0m\u001b[0;34m\u001b[0m\u001b[0;34m\u001b[0m\u001b[0m\n\u001b[1;32m   4905\u001b[0m         \"\"\"\n\u001b[0;32m-> 4906\u001b[0;31m         return super().drop(\n\u001b[0m\u001b[1;32m   4907\u001b[0m             \u001b[0mlabels\u001b[0m\u001b[0;34m=\u001b[0m\u001b[0mlabels\u001b[0m\u001b[0;34m,\u001b[0m\u001b[0;34m\u001b[0m\u001b[0;34m\u001b[0m\u001b[0m\n\u001b[1;32m   4908\u001b[0m             \u001b[0maxis\u001b[0m\u001b[0;34m=\u001b[0m\u001b[0maxis\u001b[0m\u001b[0;34m,\u001b[0m\u001b[0;34m\u001b[0m\u001b[0;34m\u001b[0m\u001b[0m\n",
            "\u001b[0;32m/usr/local/lib/python3.9/dist-packages/pandas/core/generic.py\u001b[0m in \u001b[0;36mdrop\u001b[0;34m(self, labels, axis, index, columns, level, inplace, errors)\u001b[0m\n\u001b[1;32m   4148\u001b[0m         \u001b[0;32mfor\u001b[0m \u001b[0maxis\u001b[0m\u001b[0;34m,\u001b[0m \u001b[0mlabels\u001b[0m \u001b[0;32min\u001b[0m \u001b[0maxes\u001b[0m\u001b[0;34m.\u001b[0m\u001b[0mitems\u001b[0m\u001b[0;34m(\u001b[0m\u001b[0;34m)\u001b[0m\u001b[0;34m:\u001b[0m\u001b[0;34m\u001b[0m\u001b[0;34m\u001b[0m\u001b[0m\n\u001b[1;32m   4149\u001b[0m             \u001b[0;32mif\u001b[0m \u001b[0mlabels\u001b[0m \u001b[0;32mis\u001b[0m \u001b[0;32mnot\u001b[0m \u001b[0;32mNone\u001b[0m\u001b[0;34m:\u001b[0m\u001b[0;34m\u001b[0m\u001b[0;34m\u001b[0m\u001b[0m\n\u001b[0;32m-> 4150\u001b[0;31m                 \u001b[0mobj\u001b[0m \u001b[0;34m=\u001b[0m \u001b[0mobj\u001b[0m\u001b[0;34m.\u001b[0m\u001b[0m_drop_axis\u001b[0m\u001b[0;34m(\u001b[0m\u001b[0mlabels\u001b[0m\u001b[0;34m,\u001b[0m \u001b[0maxis\u001b[0m\u001b[0;34m,\u001b[0m \u001b[0mlevel\u001b[0m\u001b[0;34m=\u001b[0m\u001b[0mlevel\u001b[0m\u001b[0;34m,\u001b[0m \u001b[0merrors\u001b[0m\u001b[0;34m=\u001b[0m\u001b[0merrors\u001b[0m\u001b[0;34m)\u001b[0m\u001b[0;34m\u001b[0m\u001b[0;34m\u001b[0m\u001b[0m\n\u001b[0m\u001b[1;32m   4151\u001b[0m \u001b[0;34m\u001b[0m\u001b[0m\n\u001b[1;32m   4152\u001b[0m         \u001b[0;32mif\u001b[0m \u001b[0minplace\u001b[0m\u001b[0;34m:\u001b[0m\u001b[0;34m\u001b[0m\u001b[0;34m\u001b[0m\u001b[0m\n",
            "\u001b[0;32m/usr/local/lib/python3.9/dist-packages/pandas/core/generic.py\u001b[0m in \u001b[0;36m_drop_axis\u001b[0;34m(self, labels, axis, level, errors)\u001b[0m\n\u001b[1;32m   4183\u001b[0m                 \u001b[0mnew_axis\u001b[0m \u001b[0;34m=\u001b[0m \u001b[0maxis\u001b[0m\u001b[0;34m.\u001b[0m\u001b[0mdrop\u001b[0m\u001b[0;34m(\u001b[0m\u001b[0mlabels\u001b[0m\u001b[0;34m,\u001b[0m \u001b[0mlevel\u001b[0m\u001b[0;34m=\u001b[0m\u001b[0mlevel\u001b[0m\u001b[0;34m,\u001b[0m \u001b[0merrors\u001b[0m\u001b[0;34m=\u001b[0m\u001b[0merrors\u001b[0m\u001b[0;34m)\u001b[0m\u001b[0;34m\u001b[0m\u001b[0;34m\u001b[0m\u001b[0m\n\u001b[1;32m   4184\u001b[0m             \u001b[0;32melse\u001b[0m\u001b[0;34m:\u001b[0m\u001b[0;34m\u001b[0m\u001b[0;34m\u001b[0m\u001b[0m\n\u001b[0;32m-> 4185\u001b[0;31m                 \u001b[0mnew_axis\u001b[0m \u001b[0;34m=\u001b[0m \u001b[0maxis\u001b[0m\u001b[0;34m.\u001b[0m\u001b[0mdrop\u001b[0m\u001b[0;34m(\u001b[0m\u001b[0mlabels\u001b[0m\u001b[0;34m,\u001b[0m \u001b[0merrors\u001b[0m\u001b[0;34m=\u001b[0m\u001b[0merrors\u001b[0m\u001b[0;34m)\u001b[0m\u001b[0;34m\u001b[0m\u001b[0;34m\u001b[0m\u001b[0m\n\u001b[0m\u001b[1;32m   4186\u001b[0m             \u001b[0mresult\u001b[0m \u001b[0;34m=\u001b[0m \u001b[0mself\u001b[0m\u001b[0;34m.\u001b[0m\u001b[0mreindex\u001b[0m\u001b[0;34m(\u001b[0m\u001b[0;34m**\u001b[0m\u001b[0;34m{\u001b[0m\u001b[0maxis_name\u001b[0m\u001b[0;34m:\u001b[0m \u001b[0mnew_axis\u001b[0m\u001b[0;34m}\u001b[0m\u001b[0;34m)\u001b[0m\u001b[0;34m\u001b[0m\u001b[0;34m\u001b[0m\u001b[0m\n\u001b[1;32m   4187\u001b[0m \u001b[0;34m\u001b[0m\u001b[0m\n",
            "\u001b[0;32m/usr/local/lib/python3.9/dist-packages/pandas/core/indexes/base.py\u001b[0m in \u001b[0;36mdrop\u001b[0;34m(self, labels, errors)\u001b[0m\n\u001b[1;32m   6015\u001b[0m         \u001b[0;32mif\u001b[0m \u001b[0mmask\u001b[0m\u001b[0;34m.\u001b[0m\u001b[0many\u001b[0m\u001b[0;34m(\u001b[0m\u001b[0;34m)\u001b[0m\u001b[0;34m:\u001b[0m\u001b[0;34m\u001b[0m\u001b[0;34m\u001b[0m\u001b[0m\n\u001b[1;32m   6016\u001b[0m             \u001b[0;32mif\u001b[0m \u001b[0merrors\u001b[0m \u001b[0;34m!=\u001b[0m \u001b[0;34m\"ignore\"\u001b[0m\u001b[0;34m:\u001b[0m\u001b[0;34m\u001b[0m\u001b[0;34m\u001b[0m\u001b[0m\n\u001b[0;32m-> 6017\u001b[0;31m                 \u001b[0;32mraise\u001b[0m \u001b[0mKeyError\u001b[0m\u001b[0;34m(\u001b[0m\u001b[0;34mf\"{labels[mask]} not found in axis\"\u001b[0m\u001b[0;34m)\u001b[0m\u001b[0;34m\u001b[0m\u001b[0;34m\u001b[0m\u001b[0m\n\u001b[0m\u001b[1;32m   6018\u001b[0m             \u001b[0mindexer\u001b[0m \u001b[0;34m=\u001b[0m \u001b[0mindexer\u001b[0m\u001b[0;34m[\u001b[0m\u001b[0;34m~\u001b[0m\u001b[0mmask\u001b[0m\u001b[0;34m]\u001b[0m\u001b[0;34m\u001b[0m\u001b[0;34m\u001b[0m\u001b[0m\n\u001b[1;32m   6019\u001b[0m         \u001b[0;32mreturn\u001b[0m \u001b[0mself\u001b[0m\u001b[0;34m.\u001b[0m\u001b[0mdelete\u001b[0m\u001b[0;34m(\u001b[0m\u001b[0mindexer\u001b[0m\u001b[0;34m)\u001b[0m\u001b[0;34m\u001b[0m\u001b[0;34m\u001b[0m\u001b[0m\n",
            "\u001b[0;31mKeyError\u001b[0m: \"['NAME' 'APPLICATION_TYPE' 'AFFILIATION' 'CLASSIFICATION' 'USE_CASE'\\n 'ORGANIZATION' 'INCOME_AMT' 'SPECIAL_CONSIDERATIONS'] not found in axis\""
          ]
        }
      ],
      "source": [
        "# Merge one-hot encoded features and drop the originals\n",
        "application_df = application_df.merge(encode_df,left_index=True, right_index=True)\n",
        "application_df = application_df.drop(application_cat,1)\n",
        "application_df.head()"
      ]
    },
    {
      "cell_type": "code",
      "execution_count": 19,
      "metadata": {
        "colab": {
          "base_uri": "https://localhost:8080/"
        },
        "id": "VwCZyW0Gv7O8",
        "outputId": "959599a7-c4c4-4f36-fe11-46c4f310bcc0"
      },
      "outputs": [
        {
          "output_type": "stream",
          "name": "stderr",
          "text": [
            "<ipython-input-19-f199198450cb>:3: FutureWarning: In a future version of pandas all arguments of DataFrame.drop except for the argument 'labels' will be keyword-only\n",
            "  X = application_df.drop([\"IS_SUCCESSFUL\"],1).values\n"
          ]
        }
      ],
      "source": [
        "# Split our preprocessed data into our features and target arrays\n",
        "y = application_df[\"IS_SUCCESSFUL\"].values\n",
        "X = application_df.drop([\"IS_SUCCESSFUL\"],1).values\n",
        "\n",
        "# Split the preprocessed data into a training and testing dataset\n",
        "X_train, X_test, y_train, y_test = train_test_split(X, y, random_state=78)"
      ]
    },
    {
      "cell_type": "code",
      "execution_count": 20,
      "metadata": {
        "id": "iUBm3-2dv7O9"
      },
      "outputs": [],
      "source": [
        "# Create a StandardScaler instances\n",
        "scaler = StandardScaler()\n",
        "\n",
        "# Fit the StandardScaler\n",
        "X_scaler = scaler.fit(X_train)\n",
        "\n",
        "# Scale the data\n",
        "X_train_scaled = X_scaler.transform(X_train)\n",
        "X_test_scaled = X_scaler.transform(X_test)"
      ]
    },
    {
      "cell_type": "code",
      "source": [
        "# Define the model - deep neural net\n",
        "number_input_features = len(X_train[0])\n",
        "hidden_nodes_layer1 =  100\n",
        "hidden_nodes_layer2 = 30\n",
        "hidden_nodes_layer3 = 10\n",
        "\n",
        "nn = tf.keras.models.Sequential()\n",
        "\n",
        "# First hidden layer\n",
        "nn.add(\n",
        "    tf.keras.layers.Dense(units=hidden_nodes_layer1, input_dim=number_input_features, activation=\"relu\")\n",
        ")\n",
        "\n",
        "# Second hidden layer\n",
        "nn.add(tf.keras.layers.Dense(units=hidden_nodes_layer2, activation=\"sigmoid\"))\n",
        "\n",
        "# Third hidden layer\n",
        "nn.add(tf.keras.layers.Dense(units=hidden_nodes_layer3, activation=\"sigmoid\"))\n",
        "\n",
        "# Output layer\n",
        "nn.add(tf.keras.layers.Dense(units=1, activation=\"sigmoid\"))\n",
        "\n",
        "# Check the structure of the model\n",
        "nn.summary()"
      ],
      "metadata": {
        "colab": {
          "base_uri": "https://localhost:8080/"
        },
        "id": "N-_VS2LC0n5v",
        "outputId": "b442074b-c2a4-4248-9b9e-376febccad4d"
      },
      "execution_count": 21,
      "outputs": [
        {
          "output_type": "stream",
          "name": "stdout",
          "text": [
            "Model: \"sequential\"\n",
            "_________________________________________________________________\n",
            " Layer (type)                Output Shape              Param #   \n",
            "=================================================================\n",
            " dense (Dense)               (None, 100)               79500     \n",
            "                                                                 \n",
            " dense_1 (Dense)             (None, 30)                3030      \n",
            "                                                                 \n",
            " dense_2 (Dense)             (None, 10)                310       \n",
            "                                                                 \n",
            " dense_3 (Dense)             (None, 1)                 11        \n",
            "                                                                 \n",
            "=================================================================\n",
            "Total params: 82,851\n",
            "Trainable params: 82,851\n",
            "Non-trainable params: 0\n",
            "_________________________________________________________________\n"
          ]
        }
      ]
    },
    {
      "cell_type": "code",
      "execution_count": 24,
      "metadata": {
        "colab": {
          "base_uri": "https://localhost:8080/"
        },
        "id": "hmX9PDbvv7O9",
        "outputId": "e43d8654-dab4-4b73-8fdd-249f0bfe1721"
      },
      "outputs": [
        {
          "output_type": "stream",
          "name": "stderr",
          "text": [
            "WARNING:tensorflow:`period` argument is deprecated. Please use `save_freq` to specify the frequency in number of batches seen.\n"
          ]
        }
      ],
      "source": [
        "# Import checkpoint dependencies\n",
        "import os\n",
        "from tensorflow.keras.callbacks import ModelCheckpoint\n",
        "\n",
        "# Define the checkpoint path and filenames\n",
        "os.makedirs(\"checkpoints/\",exist_ok=True)\n",
        "checkpoint_path = \"checkpoints/weights.{epoch:02d}.hdf5\"\n",
        "\n",
        "\n",
        "# Create a callback that saves the model's weights every 5 epochs\n",
        "cp_callback = ModelCheckpoint(\n",
        "    filepath=checkpoint_path,\n",
        "    verbose=1,\n",
        "    save_weights_only=True,\n",
        "    save_freq='epoch',\n",
        "    period=5)"
      ]
    },
    {
      "cell_type": "code",
      "execution_count": 25,
      "metadata": {
        "id": "jqObkXymv7O9"
      },
      "outputs": [],
      "source": [
        "# Compile the model\n",
        "nn.compile(loss=\"binary_crossentropy\", optimizer=\"adam\", metrics=[\"accuracy\"])"
      ]
    },
    {
      "cell_type": "code",
      "execution_count": 26,
      "metadata": {
        "id": "mpSt982fv7O9",
        "colab": {
          "base_uri": "https://localhost:8080/"
        },
        "outputId": "276390f9-9376-4198-9f0b-392c1ef27dd2"
      },
      "outputs": [
        {
          "output_type": "stream",
          "name": "stdout",
          "text": [
            "Epoch 1/100\n",
            "804/804 [==============================] - 6s 5ms/step - loss: 0.4973 - accuracy: 0.7710\n",
            "Epoch 2/100\n",
            "804/804 [==============================] - 4s 5ms/step - loss: 0.4458 - accuracy: 0.7944\n",
            "Epoch 3/100\n",
            "804/804 [==============================] - 3s 3ms/step - loss: 0.4359 - accuracy: 0.7960\n",
            "Epoch 4/100\n",
            "804/804 [==============================] - 3s 3ms/step - loss: 0.4309 - accuracy: 0.7953\n",
            "Epoch 5/100\n",
            "804/804 [==============================] - 3s 3ms/step - loss: 0.4281 - accuracy: 0.7977\n",
            "Epoch 6/100\n",
            "804/804 [==============================] - 3s 4ms/step - loss: 0.4257 - accuracy: 0.7977\n",
            "Epoch 7/100\n",
            "804/804 [==============================] - 3s 3ms/step - loss: 0.4240 - accuracy: 0.8005\n",
            "Epoch 8/100\n",
            "804/804 [==============================] - 3s 3ms/step - loss: 0.4229 - accuracy: 0.7988\n",
            "Epoch 9/100\n",
            "804/804 [==============================] - 3s 3ms/step - loss: 0.4212 - accuracy: 0.8010\n",
            "Epoch 10/100\n",
            "804/804 [==============================] - 3s 3ms/step - loss: 0.4198 - accuracy: 0.8012\n",
            "Epoch 11/100\n",
            "804/804 [==============================] - 4s 4ms/step - loss: 0.4193 - accuracy: 0.8021\n",
            "Epoch 12/100\n",
            "804/804 [==============================] - 3s 4ms/step - loss: 0.4180 - accuracy: 0.8019\n",
            "Epoch 13/100\n",
            "804/804 [==============================] - 3s 4ms/step - loss: 0.4179 - accuracy: 0.8019\n",
            "Epoch 14/100\n",
            "804/804 [==============================] - 3s 3ms/step - loss: 0.4166 - accuracy: 0.8029\n",
            "Epoch 15/100\n",
            "804/804 [==============================] - 4s 5ms/step - loss: 0.4160 - accuracy: 0.8021\n",
            "Epoch 16/100\n",
            "804/804 [==============================] - 3s 3ms/step - loss: 0.4154 - accuracy: 0.8022\n",
            "Epoch 17/100\n",
            "804/804 [==============================] - 3s 3ms/step - loss: 0.4150 - accuracy: 0.8033\n",
            "Epoch 18/100\n",
            "804/804 [==============================] - 3s 3ms/step - loss: 0.4144 - accuracy: 0.8035\n",
            "Epoch 19/100\n",
            "804/804 [==============================] - 4s 5ms/step - loss: 0.4133 - accuracy: 0.8038\n",
            "Epoch 20/100\n",
            "804/804 [==============================] - 4s 5ms/step - loss: 0.4129 - accuracy: 0.8032\n",
            "Epoch 21/100\n",
            "804/804 [==============================] - 3s 4ms/step - loss: 0.4124 - accuracy: 0.8041\n",
            "Epoch 22/100\n",
            "804/804 [==============================] - 3s 3ms/step - loss: 0.4123 - accuracy: 0.8045\n",
            "Epoch 23/100\n",
            "804/804 [==============================] - 5s 6ms/step - loss: 0.4120 - accuracy: 0.8046\n",
            "Epoch 24/100\n",
            "804/804 [==============================] - 3s 4ms/step - loss: 0.4113 - accuracy: 0.8059\n",
            "Epoch 25/100\n",
            "804/804 [==============================] - 3s 3ms/step - loss: 0.4109 - accuracy: 0.8045\n",
            "Epoch 26/100\n",
            "804/804 [==============================] - 3s 3ms/step - loss: 0.4108 - accuracy: 0.8057\n",
            "Epoch 27/100\n",
            "804/804 [==============================] - 4s 4ms/step - loss: 0.4105 - accuracy: 0.8068\n",
            "Epoch 28/100\n",
            "804/804 [==============================] - 3s 3ms/step - loss: 0.4102 - accuracy: 0.8052\n",
            "Epoch 29/100\n",
            "804/804 [==============================] - 3s 3ms/step - loss: 0.4093 - accuracy: 0.8054\n",
            "Epoch 30/100\n",
            "804/804 [==============================] - 4s 5ms/step - loss: 0.4096 - accuracy: 0.8059\n",
            "Epoch 31/100\n",
            "804/804 [==============================] - 4s 4ms/step - loss: 0.4097 - accuracy: 0.8055\n",
            "Epoch 32/100\n",
            "804/804 [==============================] - 3s 4ms/step - loss: 0.4096 - accuracy: 0.8063\n",
            "Epoch 33/100\n",
            "804/804 [==============================] - 3s 4ms/step - loss: 0.4098 - accuracy: 0.8059\n",
            "Epoch 34/100\n",
            "804/804 [==============================] - 3s 4ms/step - loss: 0.4092 - accuracy: 0.8054\n",
            "Epoch 35/100\n",
            "804/804 [==============================] - 4s 5ms/step - loss: 0.4093 - accuracy: 0.8062\n",
            "Epoch 36/100\n",
            "804/804 [==============================] - 3s 4ms/step - loss: 0.4086 - accuracy: 0.8063\n",
            "Epoch 37/100\n",
            "804/804 [==============================] - 3s 4ms/step - loss: 0.4082 - accuracy: 0.8065\n",
            "Epoch 38/100\n",
            "804/804 [==============================] - 3s 4ms/step - loss: 0.4082 - accuracy: 0.8056\n",
            "Epoch 39/100\n",
            "804/804 [==============================] - 4s 5ms/step - loss: 0.4084 - accuracy: 0.8063\n",
            "Epoch 40/100\n",
            "804/804 [==============================] - 3s 4ms/step - loss: 0.4080 - accuracy: 0.8066\n",
            "Epoch 41/100\n",
            "804/804 [==============================] - 3s 3ms/step - loss: 0.4078 - accuracy: 0.8076\n",
            "Epoch 42/100\n",
            "804/804 [==============================] - 3s 3ms/step - loss: 0.4077 - accuracy: 0.8073\n",
            "Epoch 43/100\n",
            "804/804 [==============================] - 4s 5ms/step - loss: 0.4073 - accuracy: 0.8072\n",
            "Epoch 44/100\n",
            "804/804 [==============================] - 4s 5ms/step - loss: 0.4073 - accuracy: 0.8082\n",
            "Epoch 45/100\n",
            "804/804 [==============================] - 3s 3ms/step - loss: 0.4069 - accuracy: 0.8064\n",
            "Epoch 46/100\n",
            "804/804 [==============================] - 3s 3ms/step - loss: 0.4073 - accuracy: 0.8064\n",
            "Epoch 47/100\n",
            "804/804 [==============================] - 4s 5ms/step - loss: 0.4065 - accuracy: 0.8075\n",
            "Epoch 48/100\n",
            "804/804 [==============================] - 3s 4ms/step - loss: 0.4062 - accuracy: 0.8068\n",
            "Epoch 49/100\n",
            "804/804 [==============================] - 3s 4ms/step - loss: 0.4066 - accuracy: 0.8071\n",
            "Epoch 50/100\n",
            "804/804 [==============================] - 3s 3ms/step - loss: 0.4067 - accuracy: 0.8070\n",
            "Epoch 51/100\n",
            "804/804 [==============================] - 3s 4ms/step - loss: 0.4069 - accuracy: 0.8076\n",
            "Epoch 52/100\n",
            "804/804 [==============================] - 3s 4ms/step - loss: 0.4064 - accuracy: 0.8080\n",
            "Epoch 53/100\n",
            "804/804 [==============================] - 3s 3ms/step - loss: 0.4070 - accuracy: 0.8078\n",
            "Epoch 54/100\n",
            "804/804 [==============================] - 3s 4ms/step - loss: 0.4068 - accuracy: 0.8074\n",
            "Epoch 55/100\n",
            "804/804 [==============================] - 3s 4ms/step - loss: 0.4066 - accuracy: 0.8071\n",
            "Epoch 56/100\n",
            "804/804 [==============================] - 4s 5ms/step - loss: 0.4073 - accuracy: 0.8076\n",
            "Epoch 57/100\n",
            "804/804 [==============================] - 3s 4ms/step - loss: 0.4070 - accuracy: 0.8072\n",
            "Epoch 58/100\n",
            "804/804 [==============================] - 3s 3ms/step - loss: 0.4063 - accuracy: 0.8077\n",
            "Epoch 59/100\n",
            "804/804 [==============================] - 3s 4ms/step - loss: 0.4071 - accuracy: 0.8077\n",
            "Epoch 60/100\n",
            "804/804 [==============================] - 4s 5ms/step - loss: 0.4071 - accuracy: 0.8070\n",
            "Epoch 61/100\n",
            "804/804 [==============================] - 3s 4ms/step - loss: 0.4065 - accuracy: 0.8074\n",
            "Epoch 62/100\n",
            "804/804 [==============================] - 3s 4ms/step - loss: 0.4064 - accuracy: 0.8084\n",
            "Epoch 63/100\n",
            "804/804 [==============================] - 3s 3ms/step - loss: 0.4072 - accuracy: 0.8074\n",
            "Epoch 64/100\n",
            "804/804 [==============================] - 4s 5ms/step - loss: 0.4070 - accuracy: 0.8080\n",
            "Epoch 65/100\n",
            "804/804 [==============================] - 3s 4ms/step - loss: 0.4063 - accuracy: 0.8081\n",
            "Epoch 66/100\n",
            "804/804 [==============================] - 3s 4ms/step - loss: 0.4064 - accuracy: 0.8092\n",
            "Epoch 67/100\n",
            "804/804 [==============================] - 3s 3ms/step - loss: 0.4068 - accuracy: 0.8083\n",
            "Epoch 68/100\n",
            "804/804 [==============================] - 4s 5ms/step - loss: 0.4072 - accuracy: 0.8077\n",
            "Epoch 69/100\n",
            "804/804 [==============================] - 3s 3ms/step - loss: 0.4066 - accuracy: 0.8083\n",
            "Epoch 70/100\n",
            "804/804 [==============================] - 3s 3ms/step - loss: 0.4067 - accuracy: 0.8078\n",
            "Epoch 71/100\n",
            "804/804 [==============================] - 3s 3ms/step - loss: 0.4066 - accuracy: 0.8080\n",
            "Epoch 72/100\n",
            "804/804 [==============================] - 4s 4ms/step - loss: 0.4069 - accuracy: 0.8074\n",
            "Epoch 73/100\n",
            "804/804 [==============================] - 3s 4ms/step - loss: 0.4065 - accuracy: 0.8066\n",
            "Epoch 74/100\n",
            "804/804 [==============================] - 3s 4ms/step - loss: 0.4070 - accuracy: 0.8084\n",
            "Epoch 75/100\n",
            "804/804 [==============================] - 3s 4ms/step - loss: 0.4062 - accuracy: 0.8085\n",
            "Epoch 76/100\n",
            "804/804 [==============================] - 3s 4ms/step - loss: 0.4060 - accuracy: 0.8087\n",
            "Epoch 77/100\n",
            "804/804 [==============================] - 3s 4ms/step - loss: 0.4060 - accuracy: 0.8082\n",
            "Epoch 78/100\n",
            "804/804 [==============================] - 3s 3ms/step - loss: 0.4065 - accuracy: 0.8089\n",
            "Epoch 79/100\n",
            "804/804 [==============================] - 3s 3ms/step - loss: 0.4068 - accuracy: 0.8092\n",
            "Epoch 80/100\n",
            "804/804 [==============================] - 3s 3ms/step - loss: 0.4067 - accuracy: 0.8091\n",
            "Epoch 81/100\n",
            "804/804 [==============================] - 4s 5ms/step - loss: 0.4060 - accuracy: 0.8091\n",
            "Epoch 82/100\n",
            "804/804 [==============================] - 3s 4ms/step - loss: 0.4063 - accuracy: 0.8088\n",
            "Epoch 83/100\n",
            "804/804 [==============================] - 3s 3ms/step - loss: 0.4068 - accuracy: 0.8081\n",
            "Epoch 84/100\n",
            "804/804 [==============================] - 3s 4ms/step - loss: 0.4067 - accuracy: 0.8080\n",
            "Epoch 85/100\n",
            "804/804 [==============================] - 4s 5ms/step - loss: 0.4064 - accuracy: 0.8079\n",
            "Epoch 86/100\n",
            "804/804 [==============================] - 3s 4ms/step - loss: 0.4065 - accuracy: 0.8080\n",
            "Epoch 87/100\n",
            "804/804 [==============================] - 3s 3ms/step - loss: 0.4068 - accuracy: 0.8090\n",
            "Epoch 88/100\n",
            "804/804 [==============================] - 3s 3ms/step - loss: 0.4058 - accuracy: 0.8092\n",
            "Epoch 89/100\n",
            "804/804 [==============================] - 4s 5ms/step - loss: 0.4060 - accuracy: 0.8087\n",
            "Epoch 90/100\n",
            "804/804 [==============================] - 3s 3ms/step - loss: 0.4066 - accuracy: 0.8082\n",
            "Epoch 91/100\n",
            "804/804 [==============================] - 3s 3ms/step - loss: 0.4063 - accuracy: 0.8088\n",
            "Epoch 92/100\n",
            "804/804 [==============================] - 3s 3ms/step - loss: 0.4059 - accuracy: 0.8073\n",
            "Epoch 93/100\n",
            "804/804 [==============================] - 3s 4ms/step - loss: 0.4057 - accuracy: 0.8089\n",
            "Epoch 94/100\n",
            "804/804 [==============================] - 3s 4ms/step - loss: 0.4052 - accuracy: 0.8091\n",
            "Epoch 95/100\n",
            "804/804 [==============================] - 3s 3ms/step - loss: 0.4056 - accuracy: 0.8083\n",
            "Epoch 96/100\n",
            "804/804 [==============================] - 3s 3ms/step - loss: 0.4058 - accuracy: 0.8090\n",
            "Epoch 97/100\n",
            "804/804 [==============================] - 3s 3ms/step - loss: 0.4063 - accuracy: 0.8087\n",
            "Epoch 98/100\n",
            "804/804 [==============================] - 4s 5ms/step - loss: 0.4068 - accuracy: 0.8080\n",
            "Epoch 99/100\n",
            "804/804 [==============================] - 3s 3ms/step - loss: 0.4070 - accuracy: 0.8088\n",
            "Epoch 100/100\n",
            "804/804 [==============================] - 4s 4ms/step - loss: 0.4069 - accuracy: 0.8081\n"
          ]
        }
      ],
      "source": [
        "# Train the model\n",
        "fit_model = nn.fit(X_train_scaled,y_train,epochs=100)"
      ]
    },
    {
      "cell_type": "code",
      "source": [
        "# Evaluate the model using the test data\n",
        "model_loss, model_accuracy = nn.evaluate(X_test_scaled,y_test,verbose=2)\n",
        "print(f\"Loss: {model_loss}, Accuracy: {model_accuracy}\")"
      ],
      "metadata": {
        "colab": {
          "base_uri": "https://localhost:8080/"
        },
        "id": "0BR2RnXgCVj5",
        "outputId": "df2f1c7e-c36b-4a98-cd32-1b0f7b888ddf"
      },
      "execution_count": 27,
      "outputs": [
        {
          "output_type": "stream",
          "name": "stdout",
          "text": [
            "268/268 - 1s - loss: 0.4448 - accuracy: 0.7889 - 978ms/epoch - 4ms/step\n",
            "Loss: 0.44481992721557617, Accuracy: 0.7889212965965271\n"
          ]
        }
      ]
    },
    {
      "cell_type": "code",
      "source": [
        "# Save and export your results to an HDF5 file\n",
        "nn.save(\"AlphabetSoupCharity_Optimization.h5\")"
      ],
      "metadata": {
        "id": "mjgkntjuDXSW"
      },
      "execution_count": 28,
      "outputs": []
    }
  ],
  "metadata": {
    "kernelspec": {
      "display_name": "Python 3 (ipykernel)",
      "language": "python",
      "name": "python3"
    },
    "language_info": {
      "codemirror_mode": {
        "name": "ipython",
        "version": 3
      },
      "file_extension": ".py",
      "mimetype": "text/x-python",
      "name": "python",
      "nbconvert_exporter": "python",
      "pygments_lexer": "ipython3",
      "version": "3.7.13"
    },
    "colab": {
      "provenance": []
    }
  },
  "nbformat": 4,
  "nbformat_minor": 0
}